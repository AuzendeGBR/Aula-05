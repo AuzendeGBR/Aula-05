{
 "cells": [
  {
   "cell_type": "code",
   "execution_count": 12,
   "metadata": {},
   "outputs": [
    {
     "name": "stdout",
     "output_type": "stream",
     "text": [
      "Assista Netflix\n"
     ]
    }
   ],
   "source": [
    "#definir tempo e dinheiro \n",
    "\n",
    "tempo = str(input(\"o clima está ensolarado?\"))\n",
    "dinheiro = float(input(\"quando de dinheiro você tem?\"))\n",
    "\n",
    "if(tempo == \"sim\" and dinheiro > 0 ):\n",
    "    print(\"você pode ir á praia\")    \n",
    "    if(tempo == \"sol\" and dinheiro <= 0):\n",
    "        print(\"Assista Netflix\")\n",
    "else:\n",
    "    print(\"Assista Netflix\")\n"
   ]
  }
 ],
 "metadata": {
  "kernelspec": {
   "display_name": "Python 3",
   "language": "python",
   "name": "python3"
  },
  "language_info": {
   "codemirror_mode": {
    "name": "ipython",
    "version": 3
   },
   "file_extension": ".py",
   "mimetype": "text/x-python",
   "name": "python",
   "nbconvert_exporter": "python",
   "pygments_lexer": "ipython3",
   "version": "3.10.8"
  }
 },
 "nbformat": 4,
 "nbformat_minor": 2
}
